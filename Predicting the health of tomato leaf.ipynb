{
 "cells": [
  {
   "cell_type": "markdown",
   "metadata": {},
   "source": [
    "Importing required libraries"
   ]
  },
  {
   "cell_type": "code",
   "execution_count": 1,
   "metadata": {},
   "outputs": [],
   "source": [
    "import matplotlib\n",
    "import warnings\n",
    "import tensorflow as tf\n",
    "tf.compat.v1.disable_eager_execution()\n",
    "from tensorflow.python.keras.preprocessing.image import ImageDataGenerator\n",
    "from tensorflow.python.keras.optimizers import Adam\n",
    "from sklearn.model_selection import train_test_split\n",
    "from tensorflow.python.keras.preprocessing.image import img_to_array\n",
    "from tensorflow.python.keras.utils.np_utils import to_categorical\n",
    "from tomatoleaf.lenet import LeNet\n",
    "from imutils import paths\n",
    "import numpy as np\n",
    "import random\n",
    "import cv2\n",
    "import os\n",
    "import time"
   ]
  },
  {
   "cell_type": "markdown",
   "metadata": {},
   "source": [
    "Accessing dataset and defining parameters"
   ]
  },
  {
   "cell_type": "code",
   "execution_count": 2,
   "metadata": {},
   "outputs": [],
   "source": [
    "resolution = 75 \n",
    "dataSet = r'C:/Users/Admin/Documents/AI-PROJECT/New folder/plantvillage'\n",
    "EPOCHS = 25\n",
    "INIT_LR = 1e-3\n",
    "BS = 32\n",
    "height = resolution\n",
    "width = resolution\n",
    "modelName = 'LeafDisease75x75.h5'"
   ]
  },
  {
   "cell_type": "markdown",
   "metadata": {},
   "source": [
    "Printing total number of classes present"
   ]
  },
  {
   "cell_type": "code",
   "execution_count": 3,
   "metadata": {},
   "outputs": [
    {
     "name": "stdout",
     "output_type": "stream",
     "text": [
      "C:/Users/Admin/Documents/AI-PROJECT/New folder/plantvillage\n",
      "Total Classes = 10\n",
      "Available Classes : ['Tomato___Bacterial_spot', 'Tomato___Early_blight', 'Tomato___healthy', 'Tomato___Late_blight', 'Tomato___Leaf_Mold', 'Tomato___Septoria_leaf_spot', 'Tomato___Spider_mites Two-spotted_spider_mite', 'Tomato___Target_Spot', 'Tomato___Tomato_mosaic_virus', 'Tomato___Tomato_Yellow_Leaf_Curl_Virus']\n"
     ]
    }
   ],
   "source": [
    "path = dataSet\n",
    "print(path)\n",
    "cnames = os.listdir(path)\n",
    "totClass = len(cnames)\n",
    "print(f'Total Classes = {totClass}')\n",
    "print(f'Available Classes : {cnames}')"
   ]
  },
  {
   "cell_type": "markdown",
   "metadata": {},
   "source": [
    "Accessing image paths"
   ]
  },
  {
   "cell_type": "code",
   "execution_count": 5,
   "metadata": {},
   "outputs": [],
   "source": [
    "data = []\n",
    "labels = []\n",
    "imagePaths = sorted(list(paths.list_images(dataSet)))\n",
    "#print(len(imagePaths))\n",
    "random.shuffle(imagePaths)\n",
    "imageFailed = 0"
   ]
  },
  {
   "cell_type": "markdown",
   "metadata": {},
   "source": [
    "Resizing the shape of image and appending images and their labels to respective lists"
   ]
  },
  {
   "cell_type": "code",
   "execution_count": 6,
   "metadata": {},
   "outputs": [],
   "source": [
    "for imagePath in imagePaths:\n",
    "    image = cv2.imread(imagePath)\n",
    "    image = cv2.resize(image, (height, width))\n",
    "    image = img_to_array(image)\n",
    "    lbl = imagePath.split(os.path.sep)[-2]\n",
    "    label = cnames.index(lbl);\n",
    "    #print(label)\n",
    "    data.append(image)\n",
    "    labels.append(label)\n",
    "             "
   ]
  },
  {
   "cell_type": "code",
   "execution_count": null,
   "metadata": {},
   "outputs": [],
   "source": [
    "print(data[1])"
   ]
  },
  {
   "cell_type": "code",
   "execution_count": null,
   "metadata": {},
   "outputs": [],
   "source": [
    "print(labels)"
   ]
  },
  {
   "cell_type": "markdown",
   "metadata": {},
   "source": [
    "Performing train test split"
   ]
  },
  {
   "cell_type": "code",
   "execution_count": 7,
   "metadata": {},
   "outputs": [
    {
     "name": "stdout",
     "output_type": "stream",
     "text": [
      "[[[0.50588235 0.47843137 0.50588235]\n",
      "  [0.58823529 0.56078431 0.58823529]\n",
      "  [0.55686275 0.52941176 0.55686275]\n",
      "  ...\n",
      "  [0.34901961 0.31764706 0.34509804]\n",
      "  [0.48235294 0.45098039 0.47843137]\n",
      "  [0.78823529 0.75294118 0.78039216]]\n",
      "\n",
      " [[0.48235294 0.45490196 0.48235294]\n",
      "  [0.54117647 0.51372549 0.54117647]\n",
      "  [0.71372549 0.68627451 0.71372549]\n",
      "  ...\n",
      "  [0.5372549  0.50588235 0.53333333]\n",
      "  [0.54901961 0.51764706 0.54509804]\n",
      "  [0.50980392 0.47843137 0.50980392]]\n",
      "\n",
      " [[0.56862745 0.54117647 0.56862745]\n",
      "  [0.56078431 0.53333333 0.56078431]\n",
      "  [0.68235294 0.65490196 0.68235294]\n",
      "  ...\n",
      "  [0.51764706 0.48627451 0.51372549]\n",
      "  [0.61960784 0.58823529 0.61568627]\n",
      "  [0.58823529 0.55686275 0.58431373]]\n",
      "\n",
      " ...\n",
      "\n",
      " [[0.49019608 0.4627451  0.52156863]\n",
      "  [0.48235294 0.45490196 0.51372549]\n",
      "  [0.45098039 0.42352941 0.48235294]\n",
      "  ...\n",
      "  [0.49803922 0.47058824 0.52941176]\n",
      "  [0.46666667 0.43921569 0.49803922]\n",
      "  [0.42745098 0.4        0.45882353]]\n",
      "\n",
      " [[0.44705882 0.41960784 0.47843137]\n",
      "  [0.45490196 0.42745098 0.48627451]\n",
      "  [0.37647059 0.34901961 0.40784314]\n",
      "  ...\n",
      "  [0.4627451  0.43529412 0.49411765]\n",
      "  [0.58039216 0.55294118 0.61176471]\n",
      "  [0.42352941 0.39607843 0.45490196]]\n",
      "\n",
      " [[0.49411765 0.46666667 0.5254902 ]\n",
      "  [0.56078431 0.53333333 0.59215686]\n",
      "  [0.47843137 0.45098039 0.50980392]\n",
      "  ...\n",
      "  [0.38823529 0.36078431 0.41960784]\n",
      "  [0.49803922 0.47058824 0.52941176]\n",
      "  [0.49019608 0.45882353 0.52156863]]]\n"
     ]
    }
   ],
   "source": [
    "data = np.array(data, dtype=\"float\") / 255.0\n",
    "print(data[1])\n",
    "labels = np.array(labels)\n",
    "(trainX, testX, trainY, testY) = train_test_split(data,labels, test_size=0.25, random_state=42)\n"
   ]
  },
  {
   "cell_type": "code",
   "execution_count": null,
   "metadata": {},
   "outputs": [],
   "source": [
    "trainX.shape"
   ]
  },
  {
   "cell_type": "markdown",
   "metadata": {},
   "source": [
    "Converting it to Categorical Data"
   ]
  },
  {
   "cell_type": "code",
   "execution_count": null,
   "metadata": {},
   "outputs": [],
   "source": [
    "trainY = to_categorical(trainY, num_classes=totClass)\n",
    "testY = to_categorical(testY, num_classes=totClass)\n",
    "BS=40"
   ]
  },
  {
   "cell_type": "code",
   "execution_count": null,
   "metadata": {},
   "outputs": [],
   "source": [
    "print(testY)"
   ]
  },
  {
   "cell_type": "markdown",
   "metadata": {},
   "source": [
    "Performing Image Augmentation"
   ]
  },
  {
   "cell_type": "code",
   "execution_count": null,
   "metadata": {},
   "outputs": [],
   "source": [
    "aug = ImageDataGenerator(rotation_range=30, width_shift_range=0.1,\n",
    "height_shift_range=0.1, shear_range=0.2, zoom_range=0.2,\n",
    "horizontal_flip=True, fill_mode=\"nearest\")\n"
   ]
  },
  {
   "cell_type": "markdown",
   "metadata": {},
   "source": [
    "Implementing LeNet and adam optimiser"
   ]
  },
  {
   "cell_type": "code",
   "execution_count": null,
   "metadata": {},
   "outputs": [],
   "source": [
    "model = LeNet.build(width=width, height=height, depth=3, classes=totClass)\n",
    "opt = Adam(lr=INIT_LR, decay=INIT_LR / EPOCHS)\n",
    "model.compile(loss=\"categorical_crossentropy\", optimizer=opt,\n",
    "metrics=[\"accuracy\"])"
   ]
  },
  {
   "cell_type": "markdown",
   "metadata": {},
   "source": [
    "Loss and Accuracy Estimation"
   ]
  },
  {
   "cell_type": "code",
   "execution_count": 27,
   "metadata": {},
   "outputs": [
    {
     "name": "stdout",
     "output_type": "stream",
     "text": [
      "254/254 [==============================] - 207s 816ms/step - batch: 126.5000 - size: 39.9606 - loss: 0.1204 - accuracy: 0.9596 - val_loss: 2.1396 - val_accuracy: 0.6900\n",
      "Epoch 24/25\n",
      "254/254 [==============================] - 212s 835ms/step - batch: 126.5000 - size: 39.9606 - loss: 0.1221 - accuracy: 0.9567 - val_loss: 2.9364 - val_accuracy: 0.6385\n",
      "Epoch 25/25\n",
      "254/254 [==============================] - 235s 927ms/step - batch: 126.5000 - size: 39.9606 - loss: 0.1341 - accuracy: 0.9531 - val_loss: 1.7016 - val_accuracy: 0.6915\n"
     ]
    }
   ],
   "source": [
    "H = model.fit(aug.flow(trainX, trainY, batch_size=BS),\n",
    "validation_data=(testX, testY), steps_per_epoch=len(trainX) // BS,epochs=EPOCHS, verbose=1)"
   ]
  },
  {
   "cell_type": "markdown",
   "metadata": {},
   "source": [
    "Saving results into .h5 file"
   ]
  },
  {
   "cell_type": "code",
   "execution_count": null,
   "metadata": {},
   "outputs": [],
   "source": [
    "model.save(\"LeafDisease.h5\")"
   ]
  },
  {
   "cell_type": "code",
   "execution_count": null,
   "metadata": {},
   "outputs": [],
   "source": []
  },
  {
   "cell_type": "code",
   "execution_count": null,
   "metadata": {},
   "outputs": [],
   "source": [
    "Perfoming testing"
   ]
  },
  {
   "cell_type": "code",
   "execution_count": 8,
   "metadata": {},
   "outputs": [],
   "source": [
    "from tensorflow.keras.models import load_model\n",
    "import imutils"
   ]
  },
  {
   "cell_type": "code",
   "execution_count": 21,
   "metadata": {
    "scrolled": true
   },
   "outputs": [],
   "source": [
    "a=testX[400]\n",
    "orig = a.copy()\n",
    "a = np.expand_dims(a, axis=0)"
   ]
  },
  {
   "cell_type": "code",
   "execution_count": 10,
   "metadata": {},
   "outputs": [],
   "source": [
    "mdl = r\"C:/Users/Admin/Documents/AI-PROJECT/Tomato_Leaf_Disease_Detection-master/LeafDisease.h5\"\n"
   ]
  },
  {
   "cell_type": "code",
   "execution_count": 16,
   "metadata": {},
   "outputs": [],
   "source": [
    "model = load_model(mdl)\n",
    "(zero, one,two, three,four,five,six,seven, eight,nine) = model.predict(a)[0]\n",
    "prob = [zero, one,two, three,four,five,six,seven, eight,nine] \n"
   ]
  },
  {
   "cell_type": "code",
   "execution_count": 22,
   "metadata": {},
   "outputs": [
    {
     "name": "stdout",
     "output_type": "stream",
     "text": [
      "Tomato___Bacterial_spot : 0.010097220540046692\n",
      "Tomato___Early_blight : 1.3905315654483275e-06\n",
      "Tomato___healthy : 0.014484831131994724\n",
      "Tomato___Late_blight : 0.9748519659042358\n",
      "Tomato___Leaf_Mold : 1.8070285534577124e-07\n",
      "Tomato___Septoria_leaf_spot : 3.041324589503347e-06\n",
      "Tomato___Spider_mites Two-spotted_spider_mite : 6.84829501551576e-06\n",
      "Tomato___Target_Spot : 1.938763034559088e-06\n",
      "Tomato___Tomato_mosaic_virus : 3.2762600965519084e-10\n",
      "Tomato___Tomato_Yellow_Leaf_Curl_Virus : 0.0005524170701391995\n",
      "\n",
      "\n",
      "Tomato___Late_blight: 97.49%\n"
     ]
    },
    {
     "data": {
      "text/plain": [
       "-1"
      ]
     },
     "execution_count": 22,
     "metadata": {},
     "output_type": "execute_result"
    }
   ],
   "source": [
    "maxProb = max(prob)\n",
    "maxIndex = prob.index(maxProb)\n",
    "label = cnames[maxIndex]\n",
    "proba = maxProb\n",
    "for i in range(0,totClass):\n",
    "    print(f'{cnames[i]} : {prob[i]}')\n",
    "    \n",
    "label = \"{}: {:.2f}%\".format(label, proba * 100)\n",
    "\n",
    "print('\\n\\n'+str(label))\n",
    "\n",
    "output = imutils.resize(orig, width=500)\n",
    "cv2.putText(output, label, (10, 25),  cv2.FONT_HERSHEY_SIMPLEX,\n",
    "0.9, (0, 255, 0), 1)\n",
    "\n",
    "cv2.imshow(\"Output\", output)\n",
    "cv2.waitKey(0)\n"
   ]
  }
 ],
 "metadata": {
  "kernelspec": {
   "display_name": "Python 3",
   "language": "python",
   "name": "python3"
  },
  "language_info": {
   "codemirror_mode": {
    "name": "ipython",
    "version": 3
   },
   "file_extension": ".py",
   "mimetype": "text/x-python",
   "name": "python",
   "nbconvert_exporter": "python",
   "pygments_lexer": "ipython3",
   "version": "3.7.6"
  }
 },
 "nbformat": 4,
 "nbformat_minor": 4
}
